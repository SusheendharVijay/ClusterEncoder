{
 "cells": [
  {
   "cell_type": "code",
   "execution_count": 1,
   "id": "usual-foster",
   "metadata": {},
   "outputs": [],
   "source": [
    "import torch\n",
    "import numpy as np\n",
    "from torch import nn \n",
    "import torch.nn.functional as F \n",
    "from collections import OrderedDict\n",
    "from sklearn.cluster import KMeans\n",
    "import matplotlib.pyplot as plt\n",
    "import numpy as np\n",
    "import cv2\n",
    "import seaborn as sns"
   ]
  },
  {
   "cell_type": "code",
   "execution_count": 2,
   "id": "little-watch",
   "metadata": {},
   "outputs": [],
   "source": [
    "import numpy as np\n",
    "import argparse\n",
    "from tqdm import tqdm \n",
    "from sklearn.datasets import load_wine\n",
    "from sklearn import preprocessing\n",
    "from sklearn.metrics.pairwise import cosine_similarity,rbf_kernel\n",
    "from sklearn.metrics.cluster import normalized_mutual_info_score\n",
    "from torch import nn,optim\n",
    "import torch"
   ]
  },
  {
   "cell_type": "code",
   "execution_count": 3,
   "id": "still-equity",
   "metadata": {},
   "outputs": [],
   "source": [
    "def wine_data():\n",
    "    data = load_wine()\n",
    "    X = data.data\n",
    "    y = data.target\n",
    "    k = len(np.unique(y))\n",
    "    min_max_scaler = preprocessing.MinMaxScaler()\n",
    "    X = min_max_scaler.fit_transform(X)\n",
    "    S = rbf_kernel(X,X)\n",
    "    return S,y,k"
   ]
  },
  {
   "cell_type": "code",
   "execution_count": 4,
   "id": "personal-strategy",
   "metadata": {},
   "outputs": [],
   "source": [
    "#torch.manual_seed(0)"
   ]
  },
  {
   "cell_type": "code",
   "execution_count": 5,
   "id": "sunset-berry",
   "metadata": {},
   "outputs": [],
   "source": [
    "class GraphEncoder(nn.Module):\n",
    "    def __init__(self,layers,clusters):\n",
    "        super(GraphEncoder,self).__init__()\n",
    "        \n",
    "        self.layers = nn.Sequential(OrderedDict({\n",
    "            \"lin1\": nn.Linear(layers[0],layers[1]),\n",
    "            \"sig1\": nn.Sigmoid(),\n",
    "            \"lin2\": nn.Linear(layers[1],layers[2]),\n",
    "            \"sig2\": nn.Sigmoid(),\n",
    "            \"lin3\": nn.Linear(layers[2],layers[3]),\n",
    "            \"sig3\": nn.Sigmoid(),\n",
    "            \"lin4\": nn.Linear(layers[3],layers[4]),\n",
    "            \"sig4\": nn.Sigmoid(),\n",
    "        }))\n",
    "        \n",
    "        \n",
    "        self.clusters = clusters\n",
    "        self.outputs = {}\n",
    "        \n",
    "        self.layers[0].register_forward_hook(self.get_activation(\"lin1\"))\n",
    "        self.layers[2].register_forward_hook(self.get_activation(\"lin2\"))\n",
    "        self.layers[4].register_forward_hook(self.get_activation(\"lin3\"))\n",
    "        \n",
    "    def get_activation(self,name):\n",
    "        def hook(module,input,output):\n",
    "            self.outputs[name] = output\n",
    "        return hook\n",
    "    \n",
    "    def forward(self,X):\n",
    "        output = self.layers(X)\n",
    "        return output\n",
    "    \n",
    "    def layer_activations(self,layername):\n",
    "       # print(torch.sigmoid(self.outputs[layername]).shape)\n",
    "        return torch.mean(torch.sigmoid(self.outputs[layername]),dim=0)\n",
    "    \n",
    "    def sparse_result(self,rho,layername):\n",
    "        rho_hat = self.layer_activations(layername)\n",
    "        return rho * np.log(rho) - rho * torch.log(rho_hat) + (1 - rho) * np.log(1 - rho) \\\n",
    "                - (1 - rho) * torch.log(1 - rho_hat)\n",
    "    \n",
    "    def kl_div(self,rho):\n",
    "        first = torch.mean(self.sparse_result(rho,\"lin1\"))\n",
    "        second = torch.mean(self.sparse_result(rho,\"lin2\"))\n",
    "        return first + second\n",
    "    \n",
    "    def get_index_by_name(self,name):\n",
    "        return list(dict(self.layers.named_children()).keys()).index(name)\n",
    "    \n",
    "    def loss(self,x_hat,x,beta,rho):\n",
    "        loss = F.mse_loss(x_hat,x) + beta*self.kl_div(rho)\n",
    "        return loss \n",
    "    \n",
    "    def get_cluster(self):\n",
    "        kmeans = KMeans(n_clusters = self.clusters).fit(self.outputs[\"lin2\"].detach().cpu().numpy())\n",
    "        self.centroids = kmeans.cluster_centers_\n",
    "        return kmeans.labels_\n",
    "    \n",
    "        \n",
    "                "
   ]
  },
  {
   "cell_type": "code",
   "execution_count": 6,
   "id": "still-taxation",
   "metadata": {},
   "outputs": [],
   "source": [
    "class SAE(nn.Module):\n",
    "    def __init__(self,input_layer,hidden_layer):\n",
    "        super(SAE,self).__init__()\n",
    "        self.layers = [input_layer] + [hidden_layer] + [input_layer]\n",
    "#         print(self.layers)\n",
    "        self.net = nn.Sequential(OrderedDict({\n",
    "            \"lin1\": nn.Linear(self.layers[0],self.layers[1]),\n",
    "            \"sig1\":nn.Sigmoid(),\n",
    "            \"lin2\": nn.Linear(self.layers[1],self.layers[2]),\n",
    "            \"sig2\":nn.Sigmoid()\n",
    "        }))\n",
    "        \n",
    "        self.outputs = {}\n",
    "        \n",
    "        self.net[0].register_forward_hook(self.get_activation(\"lin1\"))\n",
    "        \n",
    "        \n",
    "    def get_activation(self,name):\n",
    "        def hook(module,input,output):\n",
    "            self.outputs[name] = output\n",
    "        return hook\n",
    "\n",
    "    def forward(self,X):\n",
    "        output = self.net(X)\n",
    "        return output\n",
    "\n",
    "\n",
    "    def layer_activations(self,layername):\n",
    "        return torch.mean(torch.sigmoid(self.outputs[layername]),dim=0)\n",
    "\n",
    "    def sparse_result(self,rho,layername):\n",
    "        rho_hat = self.layer_activations(layername)\n",
    "        return rho * np.log(rho) - rho * torch.log(rho_hat) + (1 - rho) * np.log(1 - rho) \\\n",
    "            - (1 - rho) * torch.log(1 - rho_hat)\n",
    "\n",
    "    def kl_div(self,rho):\n",
    "        return torch.mean(self.sparse_result(rho,\"lin1\"))\n",
    "\n",
    "    def loss(self,x_hat,x,rho,beta):\n",
    "        loss = F.mse_loss(x_hat,x) + beta*self.kl_div(rho)\n",
    "        return loss\n",
    "                    "
   ]
  },
  {
   "cell_type": "code",
   "execution_count": 7,
   "id": "dental-toddler",
   "metadata": {},
   "outputs": [],
   "source": [
    "args = {\n",
    "    \"dataset\": \"wine\",\n",
    "    \"layers\":[128,64,128],\n",
    "    \"beta\": 0.01,\n",
    "    \"rho\":0.5,\n",
    "    \"lr\": 0.01,\n",
    "    \"epoch\": 200,\n",
    "    \"device\":\"gpu\"\n",
    "}\n",
    "\n",
    "device = torch.device(\"cuda\" if args[\"device\"] == \"gpu\" else \"cpu\")\n",
    "\n",
    "                      "
   ]
  },
  {
   "cell_type": "markdown",
   "id": "consecutive-canberra",
   "metadata": {},
   "source": [
    "## Stacked Auto encoder"
   ]
  },
  {
   "cell_type": "code",
   "execution_count": 8,
   "id": "inappropriate-trial",
   "metadata": {},
   "outputs": [
    {
     "name": "stderr",
     "output_type": "stream",
     "text": [
      "100%|██████████| 200/200 [00:05<00:00, 35.75it/s, loss=tensor(6.2143e-05, device='cuda:0', grad_fn=<AddBackward0>), nmi=0.821]"
     ]
    },
    {
     "name": "stdout",
     "output_type": "stream",
     "text": [
      "[1 1 1 1 1 1 1 1 1 1 1 1 1 1 1 1 1 1 1 1 1 1 1 1 1 0 1 1 1 1 1 1 1 1 1 1 1\n",
      " 1 1 1 1 1 1 1 1 1 1 1 1 1 1 1 1 1 1 1 1 1 1 0 0 2 0 0 0 0 1 0 0 0 0 0 0 1\n",
      " 1 0 0 0 0 0 0 0 0 2 0 0 0 0 0 0 0 0 0 0 0 1 0 0 1 0 0 0 0 0 0 0 0 0 0 0 0\n",
      " 0 0 0 0 0 0 0 2 0 0 0 0 0 0 0 0 0 0 0 2 2 2 2 2 2 2 2 2 2 2 2 2 2 2 2 2 2\n",
      " 2 2 2 2 2 2 2 2 2 2 2 2 2 2 2 2 2 2 2 2 2 2 2 2 2 2 2 2 2 2]\n"
     ]
    },
    {
     "name": "stderr",
     "output_type": "stream",
     "text": [
      "\n"
     ]
    }
   ],
   "source": [
    "def main():\n",
    "    if args[\"dataset\"].lower() == \"wine\":\n",
    "        data = load_wine()\n",
    "    else:\n",
    "        raise Exception(\"Invalid Dataset\")\n",
    "    \n",
    "    X  = data.data\n",
    "    y = data.target\n",
    "    k = len(np.unique(y))\n",
    "    \n",
    "    min_max_scaler = preprocessing.MinMaxScaler()\n",
    "    X = min_max_scaler.fit_transform(X)\n",
    "    \n",
    "    S = rbf_kernel(X,X,gamma=2)\n",
    "    \n",
    "    D  = np.diag(1.0/S.sum(axis=1))\n",
    "    \n",
    "    X_train = torch.tensor(D.dot(S)).float().to(device)\n",
    "    \n",
    "    layers = [len(X_train)] + args[\"layers\"] + [len(X_train)]\n",
    "    \n",
    "    model = GraphEncoder(layers,k).to(device)\n",
    "    optimizer  = optim.Adam(model.parameters(),lr=args[\"lr\"])\n",
    "    \n",
    "    with tqdm(total= args[\"epoch\"]) as tq:\n",
    "        for epoch in range(1,args[\"epoch\"] +1):\n",
    "            optimizer.zero_grad()\n",
    "            X_hat = model(X_train)\n",
    "            loss = model.loss(X_hat,X_train, args[\"beta\"],args[\"rho\"])\n",
    "            nmi = normalized_mutual_info_score(model.get_cluster(),y,average_method=\"arithmetic\")\n",
    "            loss.backward()\n",
    "            optimizer.step()\n",
    "            \n",
    "            tq.set_postfix(loss=loss,nmi =\"{:.3f}\".format(nmi))\n",
    "            tq.update()\n",
    "        print(model.get_cluster())\n",
    "    return model\n",
    "\n",
    "if __name__ == \"__main__\":\n",
    "    model = main()"
   ]
  },
  {
   "cell_type": "code",
   "execution_count": 9,
   "id": "fifteen-debate",
   "metadata": {},
   "outputs": [
    {
     "name": "stderr",
     "output_type": "stream",
     "text": [
      "100%|██████████| 200/200 [00:00<00:00, 363.04it/s, loss=tensor(0.0005, device='cuda:0', grad_fn=<AddBackward0>)]\n",
      " 38%|███▊      | 76/200 [00:00<00:00, 376.82it/s, loss=tensor(1.3395, device='cuda:0', grad_fn=<AddBackward0>)]"
     ]
    },
    {
     "name": "stdout",
     "output_type": "stream",
     "text": [
      "torch.Size([178, 128])\n"
     ]
    },
    {
     "name": "stderr",
     "output_type": "stream",
     "text": [
      "100%|██████████| 200/200 [00:00<00:00, 371.26it/s, loss=tensor(1.3323, device='cuda:0', grad_fn=<AddBackward0>)]\n",
      " 36%|███▌      | 71/200 [00:00<00:00, 361.85it/s, loss=tensor(0.1221, device='cuda:0', grad_fn=<AddBackward0>)]"
     ]
    },
    {
     "name": "stdout",
     "output_type": "stream",
     "text": [
      "torch.Size([178, 64])\n"
     ]
    },
    {
     "name": "stderr",
     "output_type": "stream",
     "text": [
      "100%|██████████| 200/200 [00:00<00:00, 364.22it/s, loss=tensor(0.1127, device='cuda:0', grad_fn=<AddBackward0>)]\n",
      " 36%|███▋      | 73/200 [00:00<00:00, 371.39it/s, loss=tensor(0.1605, device='cuda:0', grad_fn=<AddBackward0>)]"
     ]
    },
    {
     "name": "stdout",
     "output_type": "stream",
     "text": [
      "torch.Size([178, 32])\n"
     ]
    },
    {
     "name": "stderr",
     "output_type": "stream",
     "text": [
      "100%|██████████| 200/200 [00:00<00:00, 383.94it/s, loss=tensor(0.1424, device='cuda:0', grad_fn=<AddBackward0>)]\n"
     ]
    },
    {
     "name": "stdout",
     "output_type": "stream",
     "text": [
      "torch.Size([178, 16])\n",
      "0.8827876828930536\n"
     ]
    }
   ],
   "source": [
    "hyper = {\n",
    "    \"beta\": 0.05,\n",
    "    \"rho\":0.2,\n",
    "    \"lr\": 0.01,\n",
    "    \"epoch\": 200,\n",
    "    \"gamma\":2\n",
    "\n",
    "}\n",
    "\n",
    "data = load_wine()\n",
    "X = data.data\n",
    "y = data.target\n",
    "k = len(np.unique(y))\n",
    "min_max_scaler = preprocessing.MinMaxScaler()\n",
    "X = min_max_scaler.fit_transform(X)\n",
    "S = rbf_kernel(X,X,hyper[\"gamma\"])\n",
    "D  = np.diag(1.0/S.sum(axis=1))\n",
    "X_train = torch.tensor(D.dot(S)).float().to(device)\n",
    "\n",
    "layers = [128,64,32,16]\n",
    "inp_layers = [178,128,64,32]\n",
    "\n",
    "\n",
    "for inp_layer,hidden_layer in zip(inp_layers,layers):\n",
    "    model = SAE(inp_layer,hidden_layer).to(device)\n",
    "    optimizer = optim.Adam(model.parameters(),lr=hyper[\"lr\"])\n",
    "    with tqdm(total=hyper[\"epoch\"]) as tq:\n",
    "        for epoch in range(1,hyper[\"epoch\"]+1):\n",
    "            optimizer.zero_grad()\n",
    "            x_hat = model(X_train)\n",
    "            loss = model.loss(x_hat,X_train,hyper[\"rho\"],hyper[\"beta\"])\n",
    "            loss.backward()\n",
    "            optimizer.step()\n",
    "            \n",
    "            tq.set_postfix(loss=loss)\n",
    "            tq.update()\n",
    "    print(model.outputs[\"lin1\"].shape)\n",
    "    X_train = model.outputs[\"lin1\"].detach()\n",
    "\n",
    "    \n",
    "    \n",
    "           \n",
    "kmeans = KMeans(n_clusters=k).fit(X_train.detach().cpu().numpy())\n",
    "labels = kmeans.labels_\n",
    "nmi = normalized_mutual_info_score(labels,y,average_method=\"arithmetic\")\n",
    "print(nmi)    \n",
    "\n"
   ]
  },
  {
   "cell_type": "code",
   "execution_count": 10,
   "id": "damaged-drink",
   "metadata": {},
   "outputs": [],
   "source": [
    "gap = X_train.cpu().numpy()"
   ]
  },
  {
   "cell_type": "code",
   "execution_count": 11,
   "id": "threatened-employment",
   "metadata": {},
   "outputs": [],
   "source": [
    "sim =np.dot(D,S)\n",
    "ev =np.dot(sim,gap)\n",
    "evalue = np.divide(ev,gap)"
   ]
  },
  {
   "cell_type": "code",
   "execution_count": 12,
   "id": "studied-textbook",
   "metadata": {},
   "outputs": [
    {
     "data": {
      "text/plain": [
       "[<matplotlib.lines.Line2D at 0x7fbd5985f550>]"
      ]
     },
     "execution_count": 12,
     "metadata": {},
     "output_type": "execute_result"
    },
    {
     "data": {
      "image/png": "[encoded data removed]",
      "text/plain": [
       "<Figure size 432x288 with 1 Axes>"
      ]
     },
     "metadata": {
      "needs_background": "light"
     },
     "output_type": "display_data"
    }
   ],
   "source": [
    "eigen_values =sorted(evalue.mean(axis=0))\n",
    "plt.plot(eigen_values,marker=\"*\")"
   ]
  },
  {
   "cell_type": "code",
   "execution_count": 13,
   "id": "previous-flour",
   "metadata": {},
   "outputs": [
    {
     "data": {
      "text/plain": [
       "KMeans(n_clusters=3)"
      ]
     },
     "execution_count": 13,
     "metadata": {},
     "output_type": "execute_result"
    }
   ],
   "source": [
    "data = load_wine()\n",
    "X = data.data\n",
    "y = data.target\n",
    "k = len(np.unique(y))\n",
    "min_max_scaler = preprocessing.MinMaxScaler()\n",
    "X = min_max_scaler.fit_transform(X)\n",
    "S = cosine_similarity(X,X)\n",
    "D  = np.diag(1.0/S.sum(axis=1))\n",
    "X_train = torch.tensor(D.dot(S)).float().numpy()\n",
    "kmeans.fit(X_train)"
   ]
  },
  {
   "cell_type": "code",
   "execution_count": 14,
   "id": "extraordinary-thesaurus",
   "metadata": {},
   "outputs": [
    {
     "name": "stdout",
     "output_type": "stream",
     "text": [
      "0.6351524906645799\n"
     ]
    }
   ],
   "source": [
    "nmi = normalized_mutual_info_score(kmeans.labels_,y,average_method=\"arithmetic\")\n",
    "print(nmi)    "
   ]
  },
  {
   "cell_type": "code",
   "execution_count": 15,
   "id": "another-dollar",
   "metadata": {},
   "outputs": [],
   "source": [
    "from sklearn.cluster import SpectralClustering\n"
   ]
  },
  {
   "cell_type": "markdown",
   "id": "accepting-cross",
   "metadata": {},
   "source": [
    "### Comparing eigengap between spectral clustering and graphEncoder"
   ]
  },
  {
   "cell_type": "markdown",
   "id": "clear-mitchell",
   "metadata": {},
   "source": [
    "Making three different datasets using gausian distribution"
   ]
  },
  {
   "cell_type": "code",
   "execution_count": 16,
   "id": "genetic-landing",
   "metadata": {},
   "outputs": [],
   "source": [
    "std = [1,0.5,0.3]\n",
    "clusters = []\n",
    "data = []\n",
    "for st in std:\n",
    "    cluster1 = np.random.normal(2,st,100)\n",
    "    cluster2 = np.random.normal(4,st,100)\n",
    "    cluster3 = np.random.normal(6,st,100)\n",
    "    clusters.append([cluster1,cluster2,cluster3])\n",
    "    data.append(np.concatenate((cluster1,cluster2,cluster3)))\n",
    "    "
   ]
  },
  {
   "cell_type": "code",
   "execution_count": 17,
   "id": "binding-chicago",
   "metadata": {},
   "outputs": [
    {
     "data": {
      "text/plain": [
       "(array([ 1.,  2.,  2.,  2., 14., 17., 22., 20., 10., 10.]),\n",
       " array([4.92673316, 5.10079531, 5.27485746, 5.44891961, 5.62298176,\n",
       "        5.79704391, 5.97110606, 6.14516821, 6.31923036, 6.49329251,\n",
       "        6.66735466]),\n",
       " <a list of 10 Patch objects>)"
      ]
     },
     "execution_count": 17,
     "metadata": {},
     "output_type": "execute_result"
    },
    {
     "data": {
      "image/png": "[encoded data removed]",
      "text/plain": [
       "<Figure size 432x288 with 1 Axes>"
      ]
     },
     "metadata": {
      "needs_background": "light"
     },
     "output_type": "display_data"
    }
   ],
   "source": [
    "plt.hist(cluster1)\n",
    "plt.hist(cluster2)\n",
    "plt.hist(cluster3)"
   ]
  },
  {
   "cell_type": "code",
   "execution_count": 18,
   "id": "sound-brooks",
   "metadata": {},
   "outputs": [
    {
     "data": {
      "text/plain": [
       "<matplotlib.axes._subplots.AxesSubplot at 0x7fbd553d3290>"
      ]
     },
     "execution_count": 18,
     "metadata": {},
     "output_type": "execute_result"
    },
    {
     "data": {
      "image/png": "[encoded data removed]",
      "text/plain": [
       "<Figure size 432x288 with 1 Axes>"
      ]
     },
     "metadata": {
      "needs_background": "light"
     },
     "output_type": "display_data"
    }
   ],
   "source": [
    "sns.distplot(data)"
   ]
  },
  {
   "cell_type": "code",
   "execution_count": 19,
   "id": "continental-rates",
   "metadata": {},
   "outputs": [],
   "source": [
    "import scipy\n",
    "\n",
    "def normalised_laplacian(S,style=\"rw\"):\n",
    "    w = S.sum(axis=0)\n",
    "    D = np.diag(1.0/w)\n",
    "    \n",
    "    if style==\"rw\":\n",
    "        return D.dot(S)\n",
    "    if style==\"sym\":\n",
    "        D = np.diag(1.0/np.sqrt(W))\n",
    "        return D.dot(S).dot(D)\n",
    "\n",
    "def get_eigen(laplacian):\n",
    "    eigen_val,eigen_vec = scipy.sparse.linalg.eigs(laplacian,10)\n",
    "    return eigen_val,eigen_vec\n"
   ]
  },
  {
   "cell_type": "markdown",
   "id": "miniature-brush",
   "metadata": {},
   "source": [
    "### Eigengap in wine data "
   ]
  },
  {
   "cell_type": "code",
   "execution_count": 20,
   "id": "upper-episode",
   "metadata": {},
   "outputs": [],
   "source": [
    "S,y,k  = wine_data()\n",
    "\n",
    "laplacian = normalised_laplacian(S)\n",
    "\n",
    "e_val,e_vec = get_eigen(laplacian)\n",
    "\n"
   ]
  },
  {
   "cell_type": "code",
   "execution_count": 21,
   "id": "cosmetic-retreat",
   "metadata": {},
   "outputs": [
    {
     "data": {
      "text/plain": [
       "[<matplotlib.lines.Line2D at 0x7fbd5530dbd0>]"
      ]
     },
     "execution_count": 21,
     "metadata": {},
     "output_type": "execute_result"
    },
    {
     "data": {
      "image/png": "[encoded data removed]",
      "text/plain": [
       "<Figure size 432x288 with 1 Axes>"
      ]
     },
     "metadata": {
      "needs_background": "light"
     },
     "output_type": "display_data"
    }
   ],
   "source": [
    "plt.plot(e_val.real)"
   ]
  },
  {
   "cell_type": "code",
   "execution_count": 22,
   "id": "imperial-documentation",
   "metadata": {},
   "outputs": [
    {
     "data": {
      "text/plain": [
       "array([1.        , 0.03356901, 0.01583935, 0.00704981, 0.00616608,\n",
       "       0.00463099, 0.00388148, 0.0030531 , 0.00201733, 0.00191466])"
      ]
     },
     "execution_count": 22,
     "metadata": {},
     "output_type": "execute_result"
    }
   ],
   "source": [
    "e_val.real"
   ]
  },
  {
   "cell_type": "markdown",
   "id": "stupid-nerve",
   "metadata": {},
   "source": [
    "### Eigengap in visibly seperate clusters"
   ]
  },
  {
   "cell_type": "code",
   "execution_count": 34,
   "id": "virtual-airplane",
   "metadata": {},
   "outputs": [
    {
     "data": {
      "image/png": "[encoded data removed]",
      "text/plain": [
       "<Figure size 432x288 with 1 Axes>"
      ]
     },
     "metadata": {
      "needs_background": "light"
     },
     "output_type": "display_data"
    }
   ],
   "source": [
    "for cluster in clusters[2]:\n",
    "    plt.hist(cluster)"
   ]
  },
  {
   "cell_type": "markdown",
   "id": "intelligent-document",
   "metadata": {},
   "source": [
    "### Cluster-3"
   ]
  },
  {
   "cell_type": "code",
   "execution_count": 42,
   "id": "fleet-evidence",
   "metadata": {},
   "outputs": [],
   "source": [
    "cluster3 = data[2].reshape(-1,1)\n",
    "\n",
    "S = rbf_kernel(cluster3,cluster3)\n",
    "\n",
    "L = normalised_laplacian(S)\n",
    "e_val,e_vec = get_eigen(L)\n",
    "\n"
   ]
  },
  {
   "cell_type": "code",
   "execution_count": 45,
   "id": "material-while",
   "metadata": {},
   "outputs": [
    {
     "data": {
      "text/plain": [
       "[<matplotlib.lines.Line2D at 0x7fbd54cc6310>]"
      ]
     },
     "execution_count": 45,
     "metadata": {},
     "output_type": "execute_result"
    },
    {
     "data": {
      "image/png": "[encoded data removed]",
      "text/plain": [
       "<Figure size 432x288 with 1 Axes>"
      ]
     },
     "metadata": {
      "needs_background": "light"
     },
     "output_type": "display_data"
    }
   ],
   "source": [
    "plt.plot(e_val.real,marker=\"*\")"
   ]
  },
  {
   "cell_type": "markdown",
   "id": "blocked-catering",
   "metadata": {},
   "source": [
    "Cluster-3 shows eigengap"
   ]
  },
  {
   "cell_type": "markdown",
   "id": "present-auction",
   "metadata": {},
   "source": [
    "## Cluster-2 "
   ]
  },
  {
   "cell_type": "code",
   "execution_count": 47,
   "id": "aware-hollywood",
   "metadata": {},
   "outputs": [
    {
     "data": {
      "text/plain": [
       "[<matplotlib.lines.Line2D at 0x7fbd54cae810>]"
      ]
     },
     "execution_count": 47,
     "metadata": {},
     "output_type": "execute_result"
    },
    {
     "data": {
      "image/png": "[encoded data removed]",
      "text/plain": [
       "<Figure size 432x288 with 1 Axes>"
      ]
     },
     "metadata": {
      "needs_background": "light"
     },
     "output_type": "display_data"
    }
   ],
   "source": [
    "c2 = data[1].reshape(-1,1)\n",
    "S = rbf_kernel(c2,c2)\n",
    "L = normalised_laplacian(S)\n",
    "e_val,e_vec = get_eigen(L)\n",
    "\n",
    "plt.plot(e_val.real,marker=\"*\")\n"
   ]
  },
  {
   "cell_type": "markdown",
   "id": "scheduled-permission",
   "metadata": {},
   "source": [
    "we can see the eigengap "
   ]
  },
  {
   "cell_type": "markdown",
   "id": "harmful-certificate",
   "metadata": {},
   "source": [
    "### Cluster-1"
   ]
  },
  {
   "cell_type": "code",
   "execution_count": 48,
   "id": "tough-venice",
   "metadata": {},
   "outputs": [
    {
     "data": {
      "text/plain": [
       "[<matplotlib.lines.Line2D at 0x7fbd54c12550>]"
      ]
     },
     "execution_count": 48,
     "metadata": {},
     "output_type": "execute_result"
    },
    {
     "data": {
      "image/png": "[encoded data removed]",
      "text/plain": [
       "<Figure size 432x288 with 1 Axes>"
      ]
     },
     "metadata": {
      "needs_background": "light"
     },
     "output_type": "display_data"
    }
   ],
   "source": [
    "c1 = data[0].reshape(-1,1)\n",
    "S = rbf_kernel(c1,c1)\n",
    "L = normalised_laplacian(S)\n",
    "e_val,e_vec = get_eigen(L)\n",
    "\n",
    "plt.plot(e_val.real,marker=\"*\")"
   ]
  },
  {
   "cell_type": "markdown",
   "id": "twelve-korean",
   "metadata": {},
   "source": [
    "The gap is difficult to observe, indicating the clusters aren't well defined which is accurate. \n"
   ]
  },
  {
   "cell_type": "markdown",
   "id": "indie-failing",
   "metadata": {},
   "source": [
    "## Eigengap for encoder without calculating eigenvalues"
   ]
  },
  {
   "cell_type": "markdown",
   "id": "brilliant-pursuit",
   "metadata": {},
   "source": [
    "Try simply assuming it might work \n"
   ]
  },
  {
   "cell_type": "code",
   "execution_count": 49,
   "id": "waiting-glucose",
   "metadata": {},
   "outputs": [
    {
     "data": {
      "text/plain": [
       "[<matplotlib.lines.Line2D at 0x7fbd54c38090>]"
      ]
     },
     "execution_count": 49,
     "metadata": {},
     "output_type": "execute_result"
    },
    {
     "data": {
      "image/png": "[encoded data removed]",
      "text/plain": [
       "<Figure size 432x288 with 4 Axes>"
      ]
     },
     "metadata": {
      "needs_background": "light"
     },
     "output_type": "display_data"
    }
   ],
   "source": [
    "fig,ax = plt.subplots(2,2)\n",
    "\n",
    "ax[0][0].plot(e_val.real)"
   ]
  },
  {
   "cell_type": "code",
   "execution_count": 52,
   "id": "naughty-vanilla",
   "metadata": {},
   "outputs": [
    {
     "data": {
      "text/plain": [
       "[<matplotlib.lines.Line2D at 0x7fbd544c0fd0>]"
      ]
     },
     "execution_count": 52,
     "metadata": {},
     "output_type": "execute_result"
    },
    {
     "data": {
      "image/png": "[encoded data removed]",
      "text/plain": [
       "<Figure size 432x288 with 3 Axes>"
      ]
     },
     "metadata": {
      "needs_background": "light"
     },
     "output_type": "display_data"
    }
   ],
   "source": [
    "plt.figure()\n",
    "plt.subplot(2,2,1)\n",
    "plt.plot(e_val.real)\n",
    "plt.subplot(2,2,2)\n",
    "plt.plot(e_val.real)\n",
    "plt.subplot(2,2,3)\n",
    "plt.plot(e_val.real)"
   ]
  },
  {
   "cell_type": "code",
   "execution_count": null,
   "id": "naked-silly",
   "metadata": {},
   "outputs": [],
   "source": []
  }
 ],
 "metadata": {
  "kernelspec": {
   "display_name": "Python [conda env:ml]",
   "language": "python",
   "name": "conda-env-ml-py"
  },
  "language_info": {
   "codemirror_mode": {
    "name": "ipython",
    "version": 3
   },
   "file_extension": ".py",
   "mimetype": "text/x-python",
   "name": "python",
   "nbconvert_exporter": "python",
   "pygments_lexer": "ipython3",
   "version": "3.7.6"
  }
 },
 "nbformat": 4,
 "nbformat_minor": 5
}
